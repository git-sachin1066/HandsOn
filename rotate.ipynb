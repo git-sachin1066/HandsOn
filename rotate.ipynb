{
 "cells": [
  {
   "cell_type": "code",
   "execution_count": null,
   "metadata": {},
   "outputs": [],
   "source": []
  },
  {
   "cell_type": "code",
   "execution_count": 2,
   "metadata": {
    "scrolled": true
   },
   "outputs": [],
   "source": [
    "import cv2\n",
    "import numpy as np\n",
    "import os\n",
    "import logging\n",
    "import tesserocr\n",
    "from tesserocr import PyTessBaseAPI ,  RIL\n",
    "from PIL import Image\n",
    "from whitening import whiten\n",
    "import pytesseract \n",
    "pytesseract.pytesseract.tesseract_cmd = r\"C:\\Program Files (x86)\\Tesseract-OCR\\tesseract.exe\" \n",
    "import re \n"
   ]
  },
  {
   "cell_type": "code",
   "execution_count": 3,
   "metadata": {},
   "outputs": [],
   "source": [
    "def rotation (image_path):\n",
    "    image = Image.open(image_path)\n",
    "    image, background = whiten(image, kernel_size=20, downsample=4)\n",
    "    save_path = os.path.join(r'C:\\bug\\output\\rotate', 'orig'+os.path.splitext(image_path)[0]+'.png')\n",
    "    image.save(save_path)\n",
    "    #lang,flag =detect_lang(image,language_list)\n",
    "    api = PyTessBaseAPI(lang='eng')\n",
    "\n",
    "    api.SetImage(image)\n",
    "    api.Recognize()\n",
    "    it = api.AnalyseLayout()\n",
    "    print(it)\n",
    "    if it is None:\n",
    "      logging.critical('Ignore last Message, AnalyseLayout is None --->  Might be a blank page')\n",
    "      return 'eng'\n",
    "    orientation, direction, order, deskew_angle = it.Orientation()\n",
    "    print(f'orientation --> {orientation}\\ndirection--> {direction}\\norder---> {order}\\ndeskew_angle--> {deskew_angle}')\n",
    "    image = image.rotate(deskew_angle)\n",
    "#     if direction == 2:\n",
    "#         image = image.rotate(90, expand=True)\n",
    "#     save_path1 = os.path.join(r'C:\\bug\\output\\rotate', 'rotate'+os.path.splitext(os.path.basename(image_path))[0]+'.png'  )                       \n",
    "#     image.save(save_path1)\n",
    "    return 0"
   ]
  },
  {
   "cell_type": "code",
   "execution_count": 4,
   "metadata": {},
   "outputs": [
    {
     "ename": "OSError",
     "evalue": "[Errno 22] Invalid argument: 'C:\\\\bug\\\\output\\\\rotate\\\\origC:\\\\bug\\\\output\\\\rr.png'",
     "output_type": "error",
     "traceback": [
      "\u001b[1;31m---------------------------------------------------------------------------\u001b[0m",
      "\u001b[1;31mOSError\u001b[0m                                   Traceback (most recent call last)",
      "\u001b[1;32m<ipython-input-4-0d934e7ea022>\u001b[0m in \u001b[0;36m<module>\u001b[1;34m\u001b[0m\n\u001b[1;32m----> 1\u001b[1;33m \u001b[0mrotation\u001b[0m \u001b[1;33m(\u001b[0m\u001b[1;34mr\"C:\\bug\\output\\rr.png\"\u001b[0m\u001b[1;33m)\u001b[0m\u001b[1;33m\u001b[0m\u001b[1;33m\u001b[0m\u001b[0m\n\u001b[0m",
      "\u001b[1;32m<ipython-input-3-00b82d95915d>\u001b[0m in \u001b[0;36mrotation\u001b[1;34m(image_path)\u001b[0m\n\u001b[0;32m      3\u001b[0m     \u001b[0mimage\u001b[0m\u001b[1;33m,\u001b[0m \u001b[0mbackground\u001b[0m \u001b[1;33m=\u001b[0m \u001b[0mwhiten\u001b[0m\u001b[1;33m(\u001b[0m\u001b[0mimage\u001b[0m\u001b[1;33m,\u001b[0m \u001b[0mkernel_size\u001b[0m\u001b[1;33m=\u001b[0m\u001b[1;36m20\u001b[0m\u001b[1;33m,\u001b[0m \u001b[0mdownsample\u001b[0m\u001b[1;33m=\u001b[0m\u001b[1;36m4\u001b[0m\u001b[1;33m)\u001b[0m\u001b[1;33m\u001b[0m\u001b[1;33m\u001b[0m\u001b[0m\n\u001b[0;32m      4\u001b[0m     \u001b[0msave_path\u001b[0m \u001b[1;33m=\u001b[0m \u001b[0mos\u001b[0m\u001b[1;33m.\u001b[0m\u001b[0mpath\u001b[0m\u001b[1;33m.\u001b[0m\u001b[0mjoin\u001b[0m\u001b[1;33m(\u001b[0m\u001b[1;34mr'C:\\bug\\output\\rotate'\u001b[0m\u001b[1;33m,\u001b[0m \u001b[1;34m'orig'\u001b[0m\u001b[1;33m+\u001b[0m\u001b[0mos\u001b[0m\u001b[1;33m.\u001b[0m\u001b[0mpath\u001b[0m\u001b[1;33m.\u001b[0m\u001b[0msplitext\u001b[0m\u001b[1;33m(\u001b[0m\u001b[0mimage_path\u001b[0m\u001b[1;33m)\u001b[0m\u001b[1;33m[\u001b[0m\u001b[1;36m0\u001b[0m\u001b[1;33m]\u001b[0m\u001b[1;33m+\u001b[0m\u001b[1;34m'.png'\u001b[0m\u001b[1;33m)\u001b[0m\u001b[1;33m\u001b[0m\u001b[1;33m\u001b[0m\u001b[0m\n\u001b[1;32m----> 5\u001b[1;33m     \u001b[0mimage\u001b[0m\u001b[1;33m.\u001b[0m\u001b[0msave\u001b[0m\u001b[1;33m(\u001b[0m\u001b[0msave_path\u001b[0m\u001b[1;33m)\u001b[0m\u001b[1;33m\u001b[0m\u001b[1;33m\u001b[0m\u001b[0m\n\u001b[0m\u001b[0;32m      6\u001b[0m     \u001b[1;31m#lang,flag =detect_lang(image,language_list)\u001b[0m\u001b[1;33m\u001b[0m\u001b[1;33m\u001b[0m\u001b[1;33m\u001b[0m\u001b[0m\n\u001b[0;32m      7\u001b[0m     \u001b[0mapi\u001b[0m \u001b[1;33m=\u001b[0m \u001b[0mPyTessBaseAPI\u001b[0m\u001b[1;33m(\u001b[0m\u001b[0mlang\u001b[0m\u001b[1;33m=\u001b[0m\u001b[1;34m'eng'\u001b[0m\u001b[1;33m)\u001b[0m\u001b[1;33m\u001b[0m\u001b[1;33m\u001b[0m\u001b[0m\n",
      "\u001b[1;32mc:\\users\\sachinverma\\appdata\\local\\programs\\python\\python37\\lib\\site-packages\\PIL\\Image.py\u001b[0m in \u001b[0;36msave\u001b[1;34m(self, fp, format, **params)\u001b[0m\n\u001b[0;32m   2097\u001b[0m                 \u001b[0mfp\u001b[0m \u001b[1;33m=\u001b[0m \u001b[0mbuiltins\u001b[0m\u001b[1;33m.\u001b[0m\u001b[0mopen\u001b[0m\u001b[1;33m(\u001b[0m\u001b[0mfilename\u001b[0m\u001b[1;33m,\u001b[0m \u001b[1;34m\"r+b\"\u001b[0m\u001b[1;33m)\u001b[0m\u001b[1;33m\u001b[0m\u001b[1;33m\u001b[0m\u001b[0m\n\u001b[0;32m   2098\u001b[0m             \u001b[1;32melse\u001b[0m\u001b[1;33m:\u001b[0m\u001b[1;33m\u001b[0m\u001b[1;33m\u001b[0m\u001b[0m\n\u001b[1;32m-> 2099\u001b[1;33m                 \u001b[0mfp\u001b[0m \u001b[1;33m=\u001b[0m \u001b[0mbuiltins\u001b[0m\u001b[1;33m.\u001b[0m\u001b[0mopen\u001b[0m\u001b[1;33m(\u001b[0m\u001b[0mfilename\u001b[0m\u001b[1;33m,\u001b[0m \u001b[1;34m\"w+b\"\u001b[0m\u001b[1;33m)\u001b[0m\u001b[1;33m\u001b[0m\u001b[1;33m\u001b[0m\u001b[0m\n\u001b[0m\u001b[0;32m   2100\u001b[0m \u001b[1;33m\u001b[0m\u001b[0m\n\u001b[0;32m   2101\u001b[0m         \u001b[1;32mtry\u001b[0m\u001b[1;33m:\u001b[0m\u001b[1;33m\u001b[0m\u001b[1;33m\u001b[0m\u001b[0m\n",
      "\u001b[1;31mOSError\u001b[0m: [Errno 22] Invalid argument: 'C:\\\\bug\\\\output\\\\rotate\\\\origC:\\\\bug\\\\output\\\\rr.png'"
     ]
    }
   ],
   "source": [
    "rotation (r\"C:\\bug\\output\\rr.png\")"
   ]
  },
  {
   "cell_type": "code",
   "execution_count": null,
   "metadata": {},
   "outputs": [],
   "source": [
    "rotation (r\"C:\\bug\\output\\lr.png\")"
   ]
  },
  {
   "cell_type": "code",
   "execution_count": null,
   "metadata": {},
   "outputs": [],
   "source": [
    "rotation (r\"C:\\bug\\output\\st.png\")"
   ]
  },
  {
   "cell_type": "code",
   "execution_count": null,
   "metadata": {},
   "outputs": [],
   "source": [
    "rotation (r\"C:\\bug\\output\\upd1.png\")"
   ]
  },
  {
   "cell_type": "code",
   "execution_count": null,
   "metadata": {},
   "outputs": [],
   "source": [
    "rotation (r\"C:\\bug\\output\\blank.png\")"
   ]
  },
  {
   "cell_type": "code",
   "execution_count": 36,
   "metadata": {
    "scrolled": true
   },
   "outputs": [
    {
     "name": "stdout",
     "output_type": "stream",
     "text": [
      "(0, 2, 1, -0.0)\n",
      "orientation --> 0\n",
      "direction--> 0\n",
      "order---> 2\n",
      "deskew_angle--> 0.002536977408453822\n",
      "0\n"
     ]
    }
   ],
   "source": [
    "im = Image.open(r\"C:\\bug\\output\\rotate\\226781.pdf_45.png\")\n",
    "im.save(r'C:\\bug\\output\\rotate\\raw_img_35.png')\n",
    "###\n",
    "api = PyTessBaseAPI(lang='eng',psm= tesserocr.PSM.SINGLE_BLOCK_VERT_TEXT , oem = tesserocr.OEM.LSTM_ONLY)\n",
    "api.SetImage(im)\n",
    "api.Recognize()\n",
    "it = api.AnalyseLayout(True)\n",
    "print(it.Orientation())\n",
    "orientation, direction, order, deskew_angle = it.Orientation()\n",
    "print(f'orientation --> {orientation}\\ndirection--> {direction}\\norder---> {order}\\ndeskew_angle--> {deskew_angle}')\n",
    "image = image.rotate(deskew_angle)\n",
    "im.save(r'C:\\bug\\output\\rotate\\desk_img_35.png')\n",
    "###\n",
    "newdata=pytesseract.image_to_osd(im)\n",
    "rotate_angle = re.search('(?<=Rotate: )\\d+', newdata).group(0)\n",
    "print(rotate_angle)\n",
    "image = im.rotate(360-int(rotate_angle), expand=True)\n",
    "save_path1 = os.path.join(r'C:\\bug\\output\\rotate', 'rotate_right_35' +'.png'  )                       \n",
    "image.save(save_path1)\n",
    "####\n",
    "\n"
   ]
  },
  {
   "cell_type": "code",
   "execution_count": 3,
   "metadata": {},
   "outputs": [
    {
     "name": "stdout",
     "output_type": "stream",
     "text": [
      "270\n",
      "(0, 2, 1, -0.001338923117145896)\n",
      "orientation --> 0\n",
      "direction--> 2\n",
      "order---> 1\n",
      "deskew_angle--> -0.001338923117145896 87\n"
     ]
    }
   ],
   "source": [
    "\n",
    "\n",
    "im = Image.open(r\"C:\\bug\\output\\rr.png\")\n",
    "im.save(r'C:\\bug\\output\\rotate\\raw_img_right.png')\n",
    "newdata=pytesseract.image_to_osd(im)\n",
    "#print(newdata)\n",
    "rotate_angle = re.search('(?<=Rotate: )\\d+', newdata).group(0)\n",
    "print(rotate_angle)\n",
    "image = im.rotate(360-int(rotate_angle), expand=True)\n",
    "save_path1 = os.path.join(r'C:\\bug\\output\\rotate', 'rotate_right' +'.png'  )                       \n",
    "image.save(save_path1)\n",
    "###\n",
    "#api = PyTessBaseAPI(lang='eng')\n",
    "api = PyTessBaseAPI(lang='eng')\n",
    "api.SetImage(im)\n",
    "api.Recognize()\n",
    "\n",
    "it = api.AnalyseLayout()\n",
    "orientation, direction, order, deskew_angle = it.Orientation()\n",
    "print(it.Orientation())\n",
    "print(f'orientation --> {orientation}\\ndirection--> {direction}\\norder---> {order}\\ndeskew_angle--> {deskew_angle} {api.MeanTextConf()}')"
   ]
  },
  {
   "cell_type": "code",
   "execution_count": 5,
   "metadata": {},
   "outputs": [
    {
     "name": "stdout",
     "output_type": "stream",
     "text": [
      "90\n",
      "orientation --> 0\n",
      "direction--> 2\n",
      "order---> 1\n",
      "deskew_angle--> -0.0015210766578093171 42\n"
     ]
    }
   ],
   "source": [
    "im = Image.open(r\"C:\\bug\\output\\lr.png\")\n",
    "im.save(r'C:\\bug\\output\\rotate\\raw_img_left.png')\n",
    "newdata=pytesseract.image_to_osd(im)\n",
    "#print(newdata)\n",
    "rotate_angle = re.search('(?<=Rotate: )\\d+', newdata).group(0)\n",
    "print(rotate_angle)\n",
    "image = im.rotate(360-int(rotate_angle), expand=True)\n",
    "save_path1 = os.path.join(r'C:\\bug\\output\\rotate', 'rotate_left' +'.png'  )                       \n",
    "image.save(save_path1)\n",
    "###\n",
    "#api = PyTessBaseAPI(lang='eng')\n",
    "api = PyTessBaseAPI(lang='eng',)\n",
    "api.SetImage(im)\n",
    "api.Recognize()\n",
    "it = api.AnalyseLayout()\n",
    "orientation, direction, order, deskew_angle = it.Orientation()\n",
    "print(f'orientation --> {orientation}\\ndirection--> {direction}\\norder---> {order}\\ndeskew_angle--> {deskew_angle} {api.MeanTextConf()}')"
   ]
  },
  {
   "cell_type": "code",
   "execution_count": 52,
   "metadata": {
    "scrolled": true
   },
   "outputs": [
    {
     "name": "stdout",
     "output_type": "stream",
     "text": [
      "0\n",
      "orientation --> 0\n",
      "direction--> 0\n",
      "order---> 2\n",
      "deskew_angle--> -0.0 77\n"
     ]
    }
   ],
   "source": [
    "im = Image.open(r\"C:\\bug\\output\\st.png\")\n",
    "im.save(r'C:\\bug\\output\\rotate\\raw_img_st.png')\n",
    "newdata=pytesseract.image_to_osd(im)\n",
    "rotate_angle = re.search('(?<=Rotate: )\\d+', newdata).group(0)\n",
    "print(rotate_angle)\n",
    "image = im.rotate(360-int(rotate_angle), expand=True)\n",
    "save_path1 = os.path.join(r'C:\\bug\\output\\rotate', 'rotate_st' +'.png'  )                       \n",
    "image.save(save_path1)\n",
    "##\n",
    "api = PyTessBaseAPI(lang='eng',psm=tesserocr.PSM.SINGLE_BLOCK)\n",
    "api.SetImage(im)\n",
    "api.Recognize()\n",
    "it = api.AnalyseLayout()\n",
    "orientation, direction, order, deskew_angle = it.Orientation()\n",
    "print(f'orientation --> {orientation}\\ndirection--> {direction}\\norder---> {order}\\ndeskew_angle--> {deskew_angle} {api.MeanTextConf()}' )"
   ]
  },
  {
   "cell_type": "code",
   "execution_count": 4,
   "metadata": {
    "scrolled": true
   },
   "outputs": [
    {
     "name": "stdout",
     "output_type": "stream",
     "text": [
      "180\n",
      "orientation --> 0\n",
      "direction--> 0\n",
      "order---> 2\n",
      "deskew_angle--> 0.007448798045516014 \n",
      "conf -->40\n"
     ]
    }
   ],
   "source": [
    "im = Image.open(r\"C:\\bug\\output\\upd1.png\")\n",
    "im.save(r'C:\\bug\\output\\upd\\raw_img_upd1.png')\n",
    "newdata=pytesseract.image_to_osd(im)\n",
    "rotate_angle = re.search('(?<=Rotate: )\\d+', newdata).group(0)\n",
    "print(rotate_angle)\n",
    "image = im.rotate(360-int(rotate_angle), expand=True)\n",
    "save_path1 = os.path.join(r'C:\\bug\\output\\upd', 'rotate_upd1' +'.png'  )                       \n",
    "image.save(save_path1)\n",
    "###\n",
    "api = PyTessBaseAPI(lang='eng')\n",
    "api.SetImage(im)\n",
    "api.Recognize()\n",
    "it = api.AnalyseLayout()\n",
    "orientation, direction, order, deskew_angle = it.Orientation()\n",
    "print(f'orientation --> {orientation}\\ndirection--> {direction}\\norder---> {order}\\ndeskew_angle--> {deskew_angle} \\nconf -->{api.MeanTextConf()}')"
   ]
  },
  {
   "cell_type": "code",
   "execution_count": 17,
   "metadata": {},
   "outputs": [
    {
     "name": "stdout",
     "output_type": "stream",
     "text": [
      "180\n",
      "orientation --> 0\n",
      "direction--> 0\n",
      "order---> 2\n",
      "deskew_angle--> -0.0\n",
      "conf -->37\n"
     ]
    }
   ],
   "source": [
    "im = Image.open(r\"C:\\bug\\output\\upd2.png\")\n",
    "im.save(r'C:\\bug\\output\\upd\\raw_img_upd2.png')\n",
    "newdata=pytesseract.image_to_osd(im)\n",
    "rotate_angle = re.search('(?<=Rotate: )\\d+', newdata).group(0)\n",
    "print(rotate_angle)\n",
    "image = im.rotate(360-int(rotate_angle), expand=True)\n",
    "save_path1 = os.path.join(r'C:\\bug\\output\\upd', 'upd2' +'.png'  )                       \n",
    "image.save(save_path1)\n",
    "###\n",
    "api = PyTessBaseAPI(lang='eng',psm=tesserocr.PSM.SINGLE_BLOCK)\n",
    "api.SetImage(im)\n",
    "api.Recognize()\n",
    "it = api.AnalyseLayout()\n",
    "orientation, direction, order, deskew_angle = it.Orientation()\n",
    "print(f'orientation --> {orientation}\\ndirection--> {direction}\\norder---> {order}\\ndeskew_angle--> {deskew_angle}\\nconf -->{api.MeanTextConf()}')"
   ]
  },
  {
   "cell_type": "code",
   "execution_count": 16,
   "metadata": {},
   "outputs": [
    {
     "name": "stdout",
     "output_type": "stream",
     "text": [
      "0\n",
      "orientation --> 0\n",
      "direction--> 0\n",
      "order---> 2\n",
      "deskew_angle--> -0.0\n",
      "conf -->77\n"
     ]
    }
   ],
   "source": [
    "im = Image.open(r\"C:\\bug\\output\\st.png\")\n",
    "im.save(r'C:\\bug\\output\\rotate\\raw_img_st.png')\n",
    "newdata=pytesseract.image_to_osd(im)\n",
    "rotate_angle = re.search('(?<=Rotate: )\\d+', newdata).group(0)\n",
    "print(rotate_angle)\n",
    "image = im.rotate(360-20, expand=True)\n",
    "save_path1 = os.path.join(r'C:\\bug\\output\\rotate', 'rotate_angle' +'.png'  )                       \n",
    "image.save(save_path1)\n",
    "api = PyTessBaseAPI(lang='eng',psm=tesserocr.PSM.SINGLE_BLOCK)\n",
    "api.SetImage(im)\n",
    "api.Recognize()\n",
    "it = api.AnalyseLayout()\n",
    "orientation, direction, order, deskew_angle = it.Orientation()\n",
    "print(f'orientation --> {orientation}\\ndirection--> {direction}\\norder---> {order}\\ndeskew_angle--> {deskew_angle}\\nconf -->{api.MeanTextConf()}')"
   ]
  },
  {
   "cell_type": "code",
   "execution_count": 7,
   "metadata": {},
   "outputs": [
    {
     "data": {
      "text/plain": [
       "<module 'pytesseract' from 'c:\\\\users\\\\sachinverma\\\\appdata\\\\local\\\\programs\\\\python\\\\python37\\\\lib\\\\site-packages\\\\pytesseract\\\\__init__.py'>"
      ]
     },
     "execution_count": 7,
     "metadata": {},
     "output_type": "execute_result"
    }
   ],
   "source": [
    "\n",
    "pytesseract"
   ]
  },
  {
   "cell_type": "code",
   "execution_count": null,
   "metadata": {},
   "outputs": [],
   "source": [
    "import re \n",
    "im = cv2.imread(str(r\"C:\\bug\\output\\upd.png\"), cv2.IMREAD_COLOR)\n",
    "newdata=pytesseract.image_to_osd(im)\n",
    "re.search('(?<=Rotate: )\\d+', newdata).group(0)\n"
   ]
  },
  {
   "cell_type": "code",
   "execution_count": null,
   "metadata": {},
   "outputs": [],
   "source": [
    "print(pytesseract.image_to_string(Image.open(r\"C:\\bug\\output\\lr.png\")))"
   ]
  },
  {
   "cell_type": "code",
   "execution_count": 33,
   "metadata": {},
   "outputs": [
    {
     "name": "stdout",
     "output_type": "stream",
     "text": [
      "Found 32 textline image components.\n",
      "Box[0]: x=2190, y=1152, w=50, h=313, confidence: 95, text:  \n",
      "\n",
      "Box[1]: x=2140, y=1090, w=55, h=439, confidence: 90, text: MEDICAL CENTRE\n",
      "\n",
      "Box[2]: x=2057, y=1068, w=80, h=469, confidence: 60, text: Junprovimgs LIVES WE TOUCH\n",
      "\n",
      "Box[3]: x=2059, y=1142, w=28, h=11, confidence: 0, text: \n",
      "Box[4]: x=1955, y=1255, w=66, h=338, confidence: 0, text: \n",
      "Box[5]: x=1859, y=1195, w=23, h=393, confidence: 95, text:  \n",
      "\n",
      "Box[6]: x=1919, y=677, w=22, h=342, confidence: 0, text: \n",
      "Box[7]: x=1804, y=246, w=20, h=943, confidence: 0, text: \n",
      "Box[8]: x=1757, y=246, w=24, h=999, confidence: 73, text: : 051107140901\n",
      "\n",
      " \n",
      "\n",
      "Box[9]: x=1714, y=246, w=25, h=1096, confidence: 89, text: : 0000278764 Registered At : 25/09/2019 06:44:47\n",
      "\n",
      "Box[10]: x=1658, y=247, w=51, h=1035, confidence: 47, text:  A190047031 Discharged At : 7.5 [SL | le\n",
      "\n",
      "Box[11]: x=1564, y=60, w=15, h=180, confidence: 0, text: \n",
      "Box[12]: x=1510, y=60, w=18, h=1520, confidence: 96, text: TAX\n",
      "\n",
      "Box[13]: x=1481, y=1246, w=19, h=356, confidence: 81, text: (EXCL.TAX) {INCL.TAX)\n",
      "\n",
      "Box[14]: x=1447, y=60, w=16, h=1520, confidence: 96, text: 10\n",
      "\n",
      "BED\n",
      "\n",
      "Box[15]: x=1409, y=60, w=17, h=1526, confidence: 96, text: 20\n",
      "\n",
      "Box[16]: x=1372, y=60, w=16, h=1525, confidence: 0, text: \n",
      "Box[17]: x=1335, y=61, w=15, h=1525, confidence: 0, text: \n",
      "Box[18]: x=1297, y=61, w=16, h=1524, confidence: 90, text: S\n",
      "\n",
      "Box[19]: x=1258, y=61, w=16, h=1519, confidence: 95, text: 120\n",
      "\n",
      "Box[20]: x=1220, y=61, w=15, h=1525, confidence: 0, text: \n",
      "Box[21]: x=1183, y=61, w=15, h=1520, confidence: 0, text: \n",
      "Box[22]: x=1145, y=60, w=15, h=1521, confidence: 0, text: \n",
      "Box[23]: x=1105, y=61, w=19, h=1520, confidence: 93, text: GENERAL SERVICES / PROCEDURES\n",
      "\n",
      "50.00\n",
      "\n",
      "0.00\n",
      "\n",
      "50.00\n",
      "\n",
      "0.00\n",
      "\n",
      "50.00\n",
      "\n",
      "Box[24]: x=1067, y=61, w=19, h=1520, confidence: 95, text: 10170\n",
      "\n",
      "MEDICAL DISPOSABLES (INVENTORY)\n",
      "\n",
      "13.50\n",
      "\n",
      "0.00\n",
      "\n",
      "13.50\n",
      "\n",
      "0.00\n",
      "\n",
      "13.50\n",
      "\n",
      "Box[25]: x=1029, y=61, w=19, h=1515, confidence: 95, text: 16160\n",
      "\n",
      "MEDICAL DISPOSABLES (SPECIAL: A&E)\n",
      "\n",
      "2.70\n",
      "\n",
      "0.00\n",
      "\n",
      "2.70\n",
      "\n",
      "0.00\n",
      "\n",
      "2.70\n",
      "\n",
      "Box[26]: x=994, y=61, w=16, h=1514, confidence: 93, text: GENERAL ANAESTHESIA - OTHERS\n",
      "\n",
      "Box[27]: x=955, y=60, w=18, h=1536, confidence: 94, text: 1,916.15 5.90 1,910.25 0.00 1,910.25\n",
      "\n",
      " \n",
      "\n",
      "Box[28]: x=188, y=122, w=24, h=557, confidence: 74, text: User * LIYANA BINT! ABDULLAH Page 1 Of 2\n",
      "\n",
      "Box[29]: x=118, y=113, w=40, h=723, confidence: 74, text:  \n",
      "\n",
      "SUNWAY MEDICAL CENTRE SDN BHD (co. no. a5\n",
      "\n",
      "Box[30]: x=72, y=113, w=18, h=613, confidence: 94, text: No.5, Jalan Lagoon Selatan, Bandar Sunway, 47500 Selangor Darul Ehsan, Malaysia\n",
      "\n",
      "Box[31]: x=53, y=146, w=16, h=563, confidence: 95, text:  \n",
      "\n"
     ]
    }
   ],
   "source": [
    "im = Image.open(r\"C:\\bug\\output\\rr.png\")\n",
    "im.save(r'C:\\bug\\output\\rotate\\raw_img_upd1.png')\n",
    "with PyTessBaseAPI() as api:\n",
    "    api.SetImage(im)\n",
    "    boxes = api.GetComponentImages(RIL.TEXTLINE, True)\n",
    "    print('Found {} textline image components.'.format(len(boxes)))\n",
    "    for i, (im, box, _, _) in enumerate(boxes):\n",
    "        # im is a PIL image object\n",
    "        # box is a dict with x, y, w and h keys\n",
    "        api.SetRectangle(box['x'], box['y'], box['w'], box['h'])\n",
    "        ocrResult = api.GetUTF8Text()\n",
    "        conf = api.MeanTextConf()\n",
    "        print(u\"Box[{0}]: x={x}, y={y}, w={w}, h={h}, \"\n",
    "              \"confidence: {1}, text: {2}\".format(i, conf, ocrResult, **box))"
   ]
  },
  {
   "cell_type": "code",
   "execution_count": 6,
   "metadata": {},
   "outputs": [
    {
     "ename": "ModuleNotFoundError",
     "evalue": "No module named 'minio'",
     "output_type": "error",
     "traceback": [
      "\u001b[1;31m---------------------------------------------------------------------------\u001b[0m",
      "\u001b[1;31mModuleNotFoundError\u001b[0m                       Traceback (most recent call last)",
      "\u001b[1;32m<ipython-input-6-17e1e6ec8e80>\u001b[0m in \u001b[0;36m<module>\u001b[1;34m\u001b[0m\n\u001b[1;32m----> 1\u001b[1;33m \u001b[1;32mfrom\u001b[0m \u001b[0mminio\u001b[0m \u001b[1;32mimport\u001b[0m \u001b[0mMinio\u001b[0m\u001b[1;33m\u001b[0m\u001b[1;33m\u001b[0m\u001b[0m\n\u001b[0m\u001b[0;32m      2\u001b[0m from minio.error import (ResponseError, BucketAlreadyOwnedByYou,\n\u001b[0;32m      3\u001b[0m                          BucketAlreadyExists, NoSuchKey)\n\u001b[0;32m      4\u001b[0m \u001b[1;32mimport\u001b[0m \u001b[0mos\u001b[0m\u001b[1;33m\u001b[0m\u001b[1;33m\u001b[0m\u001b[0m\n",
      "\u001b[1;31mModuleNotFoundError\u001b[0m: No module named 'minio'"
     ]
    }
   ],
   "source": [
    "from minio import Minio\n",
    "from minio.error import (ResponseError, BucketAlreadyOwnedByYou,\n",
    "                         BucketAlreadyExists, NoSuchKey)\n",
    "import os \n"
   ]
  },
  {
   "cell_type": "code",
   "execution_count": null,
   "metadata": {},
   "outputs": [],
   "source": []
  }
 ],
 "metadata": {
  "kernelspec": {
   "display_name": "Python 3",
   "language": "python",
   "name": "python3"
  },
  "language_info": {
   "codemirror_mode": {
    "name": "ipython",
    "version": 3
   },
   "file_extension": ".py",
   "mimetype": "text/x-python",
   "name": "python",
   "nbconvert_exporter": "python",
   "pygments_lexer": "ipython3",
   "version": "3.7.5"
  }
 },
 "nbformat": 4,
 "nbformat_minor": 4
}
